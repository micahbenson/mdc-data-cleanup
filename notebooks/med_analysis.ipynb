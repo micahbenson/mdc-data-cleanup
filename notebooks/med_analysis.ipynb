{
 "cells": [
  {
   "cell_type": "code",
   "execution_count": 36,
   "metadata": {},
   "outputs": [],
   "source": [
    "%matplotlib inline\n",
    "import matplotlib.pyplot as plt\n",
    "\n",
    "def configure_plots():\n",
    "    '''Configures plots by making some quality of life adjustments'''\n",
    "    for _ in range(2):\n",
    "        plt.rcParams['figure.figsize'] = [16/4, 9/4]\n",
    "        plt.rcParams['axes.titlesize'] = 20\n",
    "        plt.rcParams['axes.labelsize'] = 16\n",
    "        plt.rcParams['xtick.labelsize'] = 14\n",
    "        plt.rcParams['ytick.labelsize'] = 14\n",
    "        plt.rcParams['lines.linewidth'] = 2\n",
    "\n",
    "configure_plots()\n",
    "\n",
    "# for n, id in enumerate(med[\"Individual Id\"].unique()):\n",
    "#     df = med[med[\"Individual Id\"] == id] \n",
    "#     plt.plot(df[\"Date\"], df[\"Weight\"])\n",
    "#     plt.title(id)\n",
    "#     plt.show()\n",
    "# df = med[med[\"Individual Id\"] == 100]\n",
    "# plt.plot(df[\"Date\"], df[\"Height\"])"
   ]
  },
  {
   "cell_type": "code",
   "execution_count": 23,
   "metadata": {},
   "outputs": [
    {
     "name": "stdout",
     "output_type": "stream",
     "text": [
      "Oldest age of a child in the education program: 14.0\n",
      "Percent of kids participating in the education program: 27.39%\n"
     ]
    }
   ],
   "source": [
    "import pandas as pd\n",
    "import numpy as np\n",
    "\n",
    "med = pd.read_csv(\"../data/med.csv\")\n",
    "people = pd.read_csv(\"../data/people.csv\")\n",
    "combined= pd.read_csv(\"../data/combined.csv\")\n",
    "\n",
    "oldest_in_ed = people[people[\"Education Program\"]==True][\"Age\"].max()\n",
    "print(f'Oldest age of a child in the education program: {oldest_in_ed}')\n",
    "\n",
    "kids = people[people[\"Age\"] < 15]\n",
    "\n",
    "percent_in_ed = np.round(np.mean(kids[\"Education Program\"])*100, 2)\n",
    "print(f'Percent of kids participating in the education program: {percent_in_ed}%')"
   ]
  },
  {
   "cell_type": "code",
   "execution_count": 44,
   "metadata": {},
   "outputs": [
    {
     "name": "stdout",
     "output_type": "stream",
     "text": [
      "Percent of kids at 4/23 med fair participating in the education program: 43.62%\n",
      "Average cavities for kids in ed program at 4/23 med fair: 2.45\n",
      "Average cavities for kids NOT in ed program at 4/23 med fair: 2.65\n",
      "Average missing for kids in ed program at 4/23 med fair: 0.11\n",
      "Average missing for kids NOT in ed program at 4/23 med fair: 0.22\n"
     ]
    }
   ],
   "source": [
    "import datetime\n",
    "\n",
    "med_to_merge = med.reset_index().set_index(\"Individual Id\")\n",
    "\n",
    "kids_med = kids.merge(med, on=\"Individual Id\", how=\"left\")\n",
    "kids_med_23 = kids_med[kids_med[\"Date\"] == str(datetime.date(2023, 4, 1))]\n",
    "\n",
    "percent_in_ed_23 = np.round(np.mean(kids_med_23[\"Education Program\"])*100, 2)\n",
    "print(f'Percent of kids at 4/23 med fair participating in the education program: {percent_in_ed_23}%')\n",
    "\n",
    "ed_23 = kids_med_23[kids_med_23[\"Education Program\"]==True]\n",
    "no_ed_23 = kids_med_23[kids_med_23[\"Education Program\"]==False]\n",
    "\n",
    "#Compare cavities between groups\n",
    "ed_mean_cav = np.round(np.mean(ed_23[\"Cavities\"]),2)\n",
    "no_ed_mean_cav = np.round(np.mean(no_ed_23[\"Cavities\"]),2)\n",
    "\n",
    "print(f'Average cavities for kids in ed program at 4/23 med fair: {ed_mean_cav}')\n",
    "print(f'Average cavities for kids NOT in ed program at 4/23 med fair: {no_ed_mean_cav}')\n",
    "\n",
    "ed_mean_miss = np.round(np.mean(ed_23[\"Missing\"]),2)\n",
    "no_ed_mean_miss = np.round(np.mean(no_ed_23[\"Missing\"]),2)\n",
    "\n",
    "print(f'Average missing for kids in ed program at 4/23 med fair: {ed_mean_miss}')\n",
    "print(f'Average missing for kids NOT in ed program at 4/23 med fair: {no_ed_mean_miss}')"
   ]
  },
  {
   "attachments": {},
   "cell_type": "markdown",
   "metadata": {},
   "source": []
  }
 ],
 "metadata": {
  "kernelspec": {
   "display_name": ".venv",
   "language": "python",
   "name": "python3"
  },
  "language_info": {
   "codemirror_mode": {
    "name": "ipython",
    "version": 3
   },
   "file_extension": ".py",
   "mimetype": "text/x-python",
   "name": "python",
   "nbconvert_exporter": "python",
   "pygments_lexer": "ipython3",
   "version": "3.8.16"
  },
  "orig_nbformat": 4,
  "vscode": {
   "interpreter": {
    "hash": "178d13a06305531a37210876f4e857cffae7b92a1d1fd01b9cb725de6da2b50a"
   }
  }
 },
 "nbformat": 4,
 "nbformat_minor": 2
}
