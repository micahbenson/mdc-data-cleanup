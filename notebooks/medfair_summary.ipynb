{
 "cells": [
  {
   "cell_type": "code",
   "execution_count": 2,
   "metadata": {},
   "outputs": [],
   "source": [
    "#IMPORTS AND LOADING DATA\n",
    "%matplotlib inline\n",
    "import pandas as pd\n",
    "import numpy as np\n",
    "import datetime \n",
    "import matplotlib.pyplot as plt\n",
    "\n",
    "def configure_plots():\n",
    "    '''Configures plots by making some quality of life adjustments'''\n",
    "    for _ in range(2):\n",
    "        plt.rcParams['figure.figsize'] = [16/2, 9/2]\n",
    "        plt.rcParams['axes.titlesize'] = 20\n",
    "        plt.rcParams['axes.labelsize'] = 16\n",
    "        plt.rcParams['xtick.labelsize'] = 14\n",
    "        plt.rcParams['ytick.labelsize'] = 14\n",
    "        plt.rcParams['lines.linewidth'] = 2\n",
    "\n",
    "configure_plots()\n",
    "\n",
    "med = pd.read_csv(\"../data/med.csv\")\n",
    "people = pd.read_csv(\"../data/people.csv\")\n",
    "combined= pd.read_csv(\"../data/combined.csv\")\n",
    "\n",
    "med23 = med[med[\"Date\"] == str(datetime.date(2023, 4, 1))]\n",
    "combined23 = combined[combined[\"Date\"] == str(datetime.date(2023, 4, 1))]\n",
    "people23 = people[people[\"Individual Id\"].isin(med23[\"Individual Id\"].to_list())]"
   ]
  },
  {
   "cell_type": "code",
   "execution_count": 37,
   "metadata": {},
   "outputs": [
    {
     "name": "stdout",
     "output_type": "stream",
     "text": [
      "Number of people at fair: 182\n",
      "Percent men: 36.26%\n",
      "Percent women: 63.74%\n",
      "Percent kids (under 18): 57.69%\n",
      "Percent adults: 42.31%\n",
      "Average age: 20.5\n",
      "Number of families (with at least two people): 54\n",
      "Average bmi among adults: 30.26\n",
      "Percent of adults obese: 49.28%\n",
      "Percent of adults overweight: 27.54%\n",
      "Percent of adults healthy: 18.84%\n",
      "Percent of adults underweight: 4.35%\n",
      "Average sugar: 35.95\n",
      "Average blood sugar (among fasting): 106.9\n",
      "Average cavities: 2.44\n"
     ]
    }
   ],
   "source": [
    "print(f'Number of people at fair: {people23.shape[0]}')\n",
    "\n",
    "percent_male = np.round(np.mean(combined23[\"Gender\"]==\"m\")*100, 2)\n",
    "print(f'Percent men: {percent_male}%')\n",
    "print(f'Percent women: {100-percent_male}%')\n",
    "\n",
    "percent_kids = np.round(np.mean(combined23[\"Age At Fair\"]<18)*100, 2)\n",
    "\n",
    "print(f'Percent kids (under 18): {percent_kids}%')\n",
    "print(f'Percent adults: {100-percent_kids}%')\n",
    "\n",
    "mean_age = np.round(np.mean(combined23[\"Age At Fair\"]),2)\n",
    "print(f'Average age: {mean_age}')\n",
    "\n",
    "list = combined23[\"Family Id\"].to_list() \n",
    "counts = {x:list.count(x) for x in list}\n",
    "\n",
    "families = []\n",
    "for id in np.unique(list): \n",
    "    if counts[id] > 1: \n",
    "        families.append(id)\n",
    "\n",
    "print(f'Number of families (with at least two people): {len(families)}')\n",
    "\n",
    "adult = combined23[combined23[\"Age At Fair\"]>17]\n",
    "\n",
    "mean_bmi_adult = np.round(np.mean(adult[\"Bmi\"]),2)\n",
    "print(f'Average bmi among adults: {mean_bmi_adult}')\n",
    "obese = adult[adult[\"Bmi\"]>=30].shape[0]\n",
    "overweight = adult[(adult[\"Bmi\"]>=25) & (adult[\"Bmi\"]<30)].shape[0]\n",
    "healthy = adult[(adult[\"Bmi\"]>=18.5) & (adult[\"Bmi\"]<25)].shape[0]\n",
    "underweight = adult[adult[\"Bmi\"]<18.5].shape[0]\n",
    "bmi_count = adult.dropna(subset=\"Bmi\").shape[0]\n",
    "print(f'Percent of adults obese: {np.round(obese/bmi_count*100,2)}%')\n",
    "print(f'Percent of adults overweight: {np.round(overweight/bmi_count*100,2)}%')\n",
    "print(f'Percent of adults healthy: {np.round(healthy/bmi_count*100,2)}%')\n",
    "print(f'Percent of adults underweight: {np.round(underweight/bmi_count*100,2)}%')\n",
    "\n",
    "mean_sugar = np.round(np.mean(combined23[\"Soda Sugar\"]),2)\n",
    "print(f'Average sugar: {mean_sugar}')\n",
    "\n",
    "mean_blood_sugar = np.round(np.mean(combined23[combined23[\"Fast\"]==True][\"Blood Sugar\"]),2)\n",
    "print(f'Average blood sugar (among fasting): {mean_blood_sugar}')\n",
    "\n",
    "mean_cav = np.round(np.mean(combined23[\"Cavities\"]),2)\n",
    "print(f'Average cavities: {mean_cav}')\n",
    "\n"
   ]
  },
  {
   "cell_type": "code",
   "execution_count": 40,
   "metadata": {},
   "outputs": [
    {
     "name": "stdout",
     "output_type": "stream",
     "text": [
      "2021-05-01 Number of people at fair: 110\n",
      "2021-11-01 Number of people at fair: 212\n",
      "2022-04-01 Number of people at fair: 180\n",
      "2022-11-01 Number of people at fair: 152\n",
      "2023-04-01 Number of people at fair: 182\n"
     ]
    }
   ],
   "source": [
    "for date in np.sort(combined[\"Date\"].unique()): \n",
    "    print(f'{date} Number of people at fair: {combined[combined[\"Date\"]==date].shape[0]}')"
   ]
  },
  {
   "cell_type": "code",
   "execution_count": 42,
   "metadata": {},
   "outputs": [
    {
     "name": "stdout",
     "output_type": "stream",
     "text": [
      "2021-05-01 Percent men: 39.09%\n",
      "2021-05-01 Percent women: 60.91%\n",
      "2021-11-01 Percent men: 38.68%\n",
      "2021-11-01 Percent women: 61.32%\n",
      "2022-04-01 Percent men: 39.44%\n",
      "2022-04-01 Percent women: 60.56%\n",
      "2022-11-01 Percent men: 40.79%\n",
      "2022-11-01 Percent women: 59.21%\n",
      "2023-04-01 Percent men: 36.26%\n",
      "2023-04-01 Percent women: 63.74%\n"
     ]
    }
   ],
   "source": [
    "for date in np.sort(combined[\"Date\"].unique()): \n",
    "    percent_male = np.round(np.mean(combined[combined[\"Date\"]==date][\"Gender\"]==\"m\")*100, 2)\n",
    "    print(f'{date} Percent men: {percent_male}%')\n",
    "    print(f'{date} Percent women: {100-percent_male}%')"
   ]
  },
  {
   "cell_type": "code",
   "execution_count": 44,
   "metadata": {},
   "outputs": [
    {
     "name": "stdout",
     "output_type": "stream",
     "text": [
      "2021-05-01 Percent kids (under 18): 58.18%\n",
      "2021-05-01 Percent adults: 41.82%\n",
      "2021-11-01 Percent kids (under 18): 53.3%\n",
      "2021-11-01 Percent adults: 46.7%\n",
      "2022-04-01 Percent kids (under 18): 53.33%\n",
      "2022-04-01 Percent adults: 46.67%\n",
      "2022-11-01 Percent kids (under 18): 61.18%\n",
      "2022-11-01 Percent adults: 38.82%\n",
      "2023-04-01 Percent kids (under 18): 57.69%\n",
      "2023-04-01 Percent adults: 42.31%\n"
     ]
    }
   ],
   "source": [
    "for date in np.sort(combined[\"Date\"].unique()): \n",
    "    percent_kids = np.round(np.mean(combined[combined[\"Date\"]==date][\"Age At Fair\"]<18)*100, 2)\n",
    "    print(f'{date} Percent kids (under 18): {percent_kids}%')\n",
    "    print(f'{date} Percent adults: {100-percent_kids}%')"
   ]
  },
  {
   "cell_type": "code",
   "execution_count": 54,
   "metadata": {},
   "outputs": [
    {
     "name": "stdout",
     "output_type": "stream",
     "text": [
      "Number of families (with at least two people): 20\n",
      "Number of families (with at least two people): 37\n",
      "Number of families (with at least two people): 37\n",
      "Number of families (with at least two people): 35\n",
      "Number of families (with at least two people): 41\n"
     ]
    }
   ],
   "source": [
    "for date in np.sort(combined[\"Date\"].unique()): \n",
    "    list = combined[combined[\"Date\"]==date][\"Family Id\"].to_list() \n",
    "    counts = {x:list.count(x) for x in list}\n",
    "\n",
    "    families = []\n",
    "    for id in np.unique(list): \n",
    "        if counts[id] > 2: \n",
    "            families.append(id)\n",
    "\n",
    "    print(f'Number of families (with at least two people): {len(families)}')"
   ]
  },
  {
   "cell_type": "code",
   "execution_count": 57,
   "metadata": {},
   "outputs": [
    {
     "name": "stdout",
     "output_type": "stream",
     "text": [
      "Average age: 18.66\n",
      "Average age: 21.04\n",
      "Average age: 21.58\n",
      "Average age: 20.29\n",
      "Average age: 20.5\n"
     ]
    }
   ],
   "source": [
    "for date in np.sort(combined[\"Date\"].unique()): \n",
    "    mean_age = np.round(np.mean(combined[combined[\"Date\"]==date][\"Age At Fair\"]),2)\n",
    "    print(f'Average age: {mean_age}')"
   ]
  },
  {
   "attachments": {},
   "cell_type": "markdown",
   "metadata": {},
   "source": [
    "Number of people at fair: 182\n",
    "Percent men: 36.26%\n",
    "Percent women: 63.74%\n",
    "Percent kids (under 18): 57.69%\n",
    "Percent adults: 42.31%\n",
    "Average age: 20.5\n",
    "Number of families (with at least two people): 54\n",
    "Average bmi among adults: 30.26\n",
    "Percent of adults obese: 49.28%\n",
    "Percent of adults overweight: 27.54%\n",
    "Percent of adults healthy: 18.84%\n",
    "Percent of adults underweight: 4.35%\n",
    "Average sugar: 35.95 g/day\n",
    "Average cavities: 2.44\n",
    "\n",
    "Some analysis of those numbers:\n",
    "182 is our second largest medical fair. \n",
    "54 families of 2 or more is second most we've ever had. \n",
    "41 families of 3 or more is the highest we have ever had. \n",
    "Gender ratio and adult/child ratio are standard for our medical fairs.\n",
    "Average age is normal. \n",
    "*Need to dig more into bmi categories* \n",
    "Soda sugar consumption dropped a lot after first fair but has been slowly increasing since then\n",
    "Cavities increased from our last fair, this is because sdf - which we used to treat cavities a year ago - is wearing off. It worked well, which is showed by a big reduction of cavities at our last fair, but only lasts 6-12 months."
   ]
  }
 ],
 "metadata": {
  "kernelspec": {
   "display_name": ".venv",
   "language": "python",
   "name": "python3"
  },
  "language_info": {
   "codemirror_mode": {
    "name": "ipython",
    "version": 3
   },
   "file_extension": ".py",
   "mimetype": "text/x-python",
   "name": "python",
   "nbconvert_exporter": "python",
   "pygments_lexer": "ipython3",
   "version": "3.8.16"
  },
  "orig_nbformat": 4,
  "vscode": {
   "interpreter": {
    "hash": "178d13a06305531a37210876f4e857cffae7b92a1d1fd01b9cb725de6da2b50a"
   }
  }
 },
 "nbformat": 4,
 "nbformat_minor": 2
}
