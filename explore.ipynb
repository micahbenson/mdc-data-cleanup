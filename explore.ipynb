{
 "cells": [
  {
   "cell_type": "code",
   "execution_count": 25,
   "metadata": {},
   "outputs": [
    {
     "data": {
      "text/plain": [
       "family_water_number\n",
       "family 01                 2021-06-04\n",
       "family 02                 2021-06-04\n",
       "family 03                 2021-06-27\n",
       "family 04                 2021-06-27\n",
       "family 05                 2021-06-04\n",
       "                             ...    \n",
       "family 96                        NaT\n",
       "family 97 - not besitos          NaT\n",
       "family 98                        NaT\n",
       "family 99                        NaT\n",
       "famiy 70                         NaT\n",
       "Name: fecha_de_inicio_agua, Length: 154, dtype: datetime64[ns]"
      ]
     },
     "execution_count": 25,
     "metadata": {},
     "output_type": "execute_result"
    }
   ],
   "source": [
    "import pandas as pd\n",
    "import numpy as np\n",
    "import re\n",
    "\n",
    "df = pd.read_excel('/Users/micahbenson/Downloads/mdc_main_data.xlsx')\n",
    "df = df.drop(columns=['Picture 2021', 'Picture 2022', 'Ticket Number'])\n",
    "\n",
    "#text formatting\n",
    "df = df.apply(lambda x: x.str.lower().str.strip() if x.dtype == object else x)\n",
    "df.columns = df.columns.str.lower().str.replace(\" \", \"_\").str.strip()\n",
    "\n",
    "#encode school attendance\n",
    "school_sems = [\"fall_semester_2022\", \"summer_school_2022\", \"spring_semester_2023\"]\n",
    "for sem in school_sems: \n",
    "    clean = df[sem].apply(lambda x: str(x))\n",
    "    clean = clean.apply(lambda x: \"attend\" if \"attend\" in x else x)\n",
    "    clean = np.where((clean == \"attend\") | (clean == \"yes\"), 1, 0)\n",
    "    df[sem] = clean\n",
    "\n",
    "#Create col that determines child/adult\n",
    "df[\"Child\"] = df[\"relacion\"].apply(lambda x: \"child\" if \"child\" in str(x) else \"adult\")\n",
    "\n",
    "#More things to do... \n",
    "#Normalizing dataset\n",
    "#fams = df.groupby('family_water_number').first()\n",
    "\n",
    "#start_dict = fams[\"fecha_de_inicio_agua\"].to_dict()\n",
    "#This method should work if I set the index to the family number and somehow specify it to fill based on row not col... \n",
    "#df[\"fecha_de_inicio_agua\"].fillna(start_dict)\n",
    "\n",
    "\n",
    "grouped = df.groupby('family_water_number')\n",
    "grouped[\"fecha_de_inicio_agua\"].first()\n",
    "\n",
    "\n",
    "\n",
    "\n",
    "#lambda x: int(re.search(r'\\d+', x).group())\n",
    "\n",
    "\n",
    "\n",
    "\n",
    "#fam_cols = [\"fecha_de_inicio_agua\", \"select_for_faf\", \"attended_pic_day_2021\"]\n",
    "#fams = fams[fam_cols]"
   ]
  }
 ],
 "metadata": {
  "kernelspec": {
   "display_name": ".venv",
   "language": "python",
   "name": "python3"
  },
  "language_info": {
   "codemirror_mode": {
    "name": "ipython",
    "version": 3
   },
   "file_extension": ".py",
   "mimetype": "text/x-python",
   "name": "python",
   "nbconvert_exporter": "python",
   "pygments_lexer": "ipython3",
   "version": "3.8.16"
  },
  "orig_nbformat": 4,
  "vscode": {
   "interpreter": {
    "hash": "178d13a06305531a37210876f4e857cffae7b92a1d1fd01b9cb725de6da2b50a"
   }
  }
 },
 "nbformat": 4,
 "nbformat_minor": 2
}
