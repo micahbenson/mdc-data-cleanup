{
 "cells": [
  {
   "cell_type": "code",
   "execution_count": 25,
   "metadata": {},
   "outputs": [
    {
     "data": {
      "text/plain": [
       "family_water_number\n",
       "family 01                 2021-06-04\n",
       "family 02                 2021-06-04\n",
       "family 03                 2021-06-27\n",
       "family 04                 2021-06-27\n",
       "family 05                 2021-06-04\n",
       "                             ...    \n",
       "family 96                        NaT\n",
       "family 97 - not besitos          NaT\n",
       "family 98                        NaT\n",
       "family 99                        NaT\n",
       "famiy 70                         NaT\n",
       "Name: fecha_de_inicio_agua, Length: 154, dtype: datetime64[ns]"
      ]
     },
     "execution_count": 25,
     "metadata": {},
     "output_type": "execute_result"
    }
   ],
   "source": [
    "import pandas as pd\n",
    "import numpy as np\n",
    "import re\n",
    "\n",
    "df = pd.read_excel('/Users/micahbenson/Downloads/mdc_main_data.xlsx')\n",
    "df = df.drop(columns=['Picture 2021', 'Picture 2022', 'Ticket Number'])\n",
    "\n",
    "#text formatting\n",
    "df = df.apply(lambda x: x.str.lower().str.strip() if x.dtype == object else x)\n",
    "df.columns = df.columns.str.lower().str.replace(\" \", \"_\").str.strip()\n",
    "\n",
    "#encode school attendance\n",
    "school_sems = [\"fall_semester_2022\", \"summer_school_2022\", \"spring_semester_2023\"]\n",
    "for sem in school_sems: \n",
    "    clean = df[sem].apply(lambda x: str(x))\n",
    "    clean = clean.apply(lambda x: \"attend\" if \"attend\" in x else x)\n",
    "    clean = np.where((clean == \"attend\") | (clean == \"yes\"), 1, 0)\n",
    "    df[sem] = clean\n",
    "\n",
    "#Create col that determines child/adult\n",
    "df[\"Child\"] = df[\"relacion\"].apply(lambda x: \"child\" if \"child\" in str(x) else \"adult\")\n",
    "\n",
    "#More things to do... \n",
    "#Normalizing dataset\n",
    "#fams = df.groupby('family_water_number').first()\n",
    "\n",
    "#start_dict = fams[\"fecha_de_inicio_agua\"].to_dict()\n",
    "#This method should work if I set the index to the family number and somehow specify it to fill based on row not col... \n",
    "#df[\"fecha_de_inicio_agua\"].fillna(start_dict)\n",
    "\n",
    "\n",
    "grouped = df.groupby('family_water_number')\n",
    "grouped[\"fecha_de_inicio_agua\"].first()\n",
    "\n",
    "\n",
    "\n",
    "\n",
    "#lambda x: int(re.search(r'\\d+', x).group())\n",
    "\n",
    "\n",
    "\n",
    "\n",
    "#fam_cols = [\"fecha_de_inicio_agua\", \"select_for_faf\", \"attended_pic_day_2021\"]\n",
    "#fams = fams[fam_cols]"
   ]
  },
  {
   "cell_type": "code",
   "execution_count": null,
   "metadata": {},
   "outputs": [],
   "source": []
  },
  {
   "cell_type": "code",
   "execution_count": 1,
   "metadata": {},
   "outputs": [
    {
     "name": "stdout",
     "output_type": "stream",
     "text": [
      "    Family Water Number Unique Family Number Fall Semester 2022   \n",
      "0             family 01                  100                 no  \\\n",
      "1             family 01                  101                 no   \n",
      "2             family 01                  102                 no   \n",
      "3             family 02                  200                 no   \n",
      "4             family 02                  201                 no   \n",
      "..                  ...                  ...                ...   \n",
      "593          family 922                  NaN                 no   \n",
      "594          family 924                  NaN                 no   \n",
      "595          family 924                  NaN                 no   \n",
      "596          family 925                  NaN                 no   \n",
      "597          family 926                  NaN                 no   \n",
      "\n",
      "    Summer School 2022 Spring Semester 2023 Adult Or Child Number   \n",
      "0                   no                   no                     0  \\\n",
      "1                   no                   no                     a   \n",
      "2                   no                   no                     1   \n",
      "3                   no                   no                     0   \n",
      "4                   no                   no                     a   \n",
      "..                 ...                  ...                   ...   \n",
      "593                 no                   no                   NaN   \n",
      "594                 no                   no                   NaN   \n",
      "595                 no                   no                   NaN   \n",
      "596                 no                   no                   NaN   \n",
      "597                 no                   no                   NaN   \n",
      "\n",
      "    Fecha De Inicio Agua 11/22Med  Fair Dropped Out Of School Super Saturday   \n",
      "0    2021-06-04 00:00:00            NaN                   NaN            yes  \\\n",
      "1                    NaN            NaN                   NaN             no   \n",
      "2    2021-06-04 00:00:00            NaN                   NaN             no   \n",
      "3    2021-06-04 00:00:00            NaN                   NaN             no   \n",
      "4    2021-06-04 00:00:00            NaN                   NaN             no   \n",
      "..                   ...            ...                   ...            ...   \n",
      "593                  NaN            NaN                   NaN             no   \n",
      "594                  NaN            NaN                   NaN             no   \n",
      "595                  NaN            NaN                   NaN             no   \n",
      "596                  NaN            NaN                   NaN             no   \n",
      "597                  NaN            NaN                   NaN             no   \n",
      "\n",
      "     ... 4/23 Cavitys 4/23 Fractures 4/23 Missing 4/23 Sdf 4/23 Sealant   \n",
      "0    ...            1            NaN            1        1          NaN  \\\n",
      "1    ...          NaN            NaN          NaN      NaN          NaN   \n",
      "2    ...          NaN            NaN          NaN      NaN          NaN   \n",
      "3    ...          NaN            NaN          NaN      NaN          NaN   \n",
      "4    ...          NaN            NaN          NaN      NaN          NaN   \n",
      "..   ...          ...            ...          ...      ...          ...   \n",
      "593  ...          NaN            NaN          NaN      NaN          NaN   \n",
      "594  ...          NaN            NaN          NaN      NaN          NaN   \n",
      "595  ...          NaN            NaN          NaN      NaN          NaN   \n",
      "596  ...          NaN            NaN          NaN      NaN          NaN   \n",
      "597  ...          NaN            NaN          NaN      NaN          NaN   \n",
      "\n",
      "    4/23 Filling 4/23 Extractions 4/23 Notes Unnamed: 285 Is Dropout  \n",
      "0            NaN              NaN        NaN          NaN         no  \n",
      "1            NaN              NaN        NaN          NaN         no  \n",
      "2            NaN              NaN        NaN          NaN         no  \n",
      "3            NaN              NaN        NaN          NaN         no  \n",
      "4            NaN              NaN        NaN          NaN         no  \n",
      "..           ...              ...        ...          ...        ...  \n",
      "593          NaN              NaN        NaN          NaN         no  \n",
      "594          NaN              NaN        NaN          NaN         no  \n",
      "595          NaN              NaN        NaN          NaN         no  \n",
      "596          NaN              NaN        NaN          NaN         no  \n",
      "597          NaN              NaN        NaN          NaN         no  \n",
      "\n",
      "[598 rows x 277 columns]\n"
     ]
    },
    {
     "ename": "TypeError",
     "evalue": "clean_fall_semester_2022() missing 1 required positional argument: 'name'",
     "output_type": "error",
     "traceback": [
      "\u001b[0;31m---------------------------------------------------------------------------\u001b[0m",
      "\u001b[0;31mTypeError\u001b[0m                                 Traceback (most recent call last)",
      "Cell \u001b[0;32mIn[1], line 11\u001b[0m\n\u001b[1;32m      8\u001b[0m df \u001b[39m=\u001b[39m df\u001b[39m.\u001b[39mdrop(columns\u001b[39m=\u001b[39mdrop)\n\u001b[1;32m      9\u001b[0m df \u001b[39m=\u001b[39m clean\u001b[39m.\u001b[39mtext_clean(df)\n\u001b[0;32m---> 11\u001b[0m df \u001b[39m=\u001b[39m clean\u001b[39m.\u001b[39;49mclean_fall_semester_2022(df)\n\u001b[1;32m     12\u001b[0m df \u001b[39m=\u001b[39m clean\u001b[39m.\u001b[39mclean_spring_semester_2023(df)\n\u001b[1;32m     13\u001b[0m df \u001b[39m=\u001b[39m clean\u001b[39m.\u001b[39mclean_summer_school_2022(df)\n",
      "\u001b[0;31mTypeError\u001b[0m: clean_fall_semester_2022() missing 1 required positional argument: 'name'"
     ]
    }
   ],
   "source": [
    "import pandas as pd\n",
    "from src import clean\n",
    "\n",
    "df = pd.read_excel('/Users/micahbenson/Downloads/mdc_main_data.xlsx')\n",
    "drop = ['Picture 2021', 'Picture 2022', 'Ticket Number', \"Relacion\", \"# of botellas\", \n",
    "        \"Feria de medico 5/21\", \"Feria de medico 11/21\", \"4/22 med fair\", \n",
    "        \"Invite april 2023 med fair\", \"Family never attended a medical fair\"]\n",
    "df = df.drop(columns=drop)\n",
    "df = clean.text_clean(df)\n",
    "\n",
    "df = clean.clean_fall_semester_2022(df)\n",
    "df = clean.clean_spring_semester_2023(df)\n",
    "df = clean.clean_summer_school_2022(df)\n",
    "df = clean.clean_super_saturday(df)\n",
    "df = clean.clean_weight_loss(df)\n",
    "df = clean.clean_2021_pic(df)\n",
    "df = clean.clean_dropout(df)\n",
    "df = clean.is_child(df)\n",
    "\n"
   ]
  },
  {
   "cell_type": "code",
   "execution_count": 58,
   "metadata": {},
   "outputs": [
    {
     "data": {
      "text/html": [
       "<div>\n",
       "<style scoped>\n",
       "    .dataframe tbody tr th:only-of-type {\n",
       "        vertical-align: middle;\n",
       "    }\n",
       "\n",
       "    .dataframe tbody tr th {\n",
       "        vertical-align: top;\n",
       "    }\n",
       "\n",
       "    .dataframe thead th {\n",
       "        text-align: right;\n",
       "    }\n",
       "</style>\n",
       "<table border=\"1\" class=\"dataframe\">\n",
       "  <thead>\n",
       "    <tr style=\"text-align: right;\">\n",
       "      <th></th>\n",
       "      <th>A</th>\n",
       "      <th>B</th>\n",
       "    </tr>\n",
       "  </thead>\n",
       "  <tbody>\n",
       "    <tr>\n",
       "      <th>0</th>\n",
       "      <td>12</td>\n",
       "      <td>12.32</td>\n",
       "    </tr>\n",
       "    <tr>\n",
       "      <th>1</th>\n",
       "      <td>2.434</td>\n",
       "      <td>1.232</td>\n",
       "    </tr>\n",
       "  </tbody>\n",
       "</table>\n",
       "</div>"
      ],
      "text/plain": [
       "       A      B\n",
       "0     12  12.32\n",
       "1  2.434  1.232"
      ]
     },
     "execution_count": 58,
     "metadata": {},
     "output_type": "execute_result"
    }
   ],
   "source": [
    "import pandas as pd\n",
    "\n",
    "dict = {\n",
    "    \"A\": [\"12\", \"2.434\",],\n",
    "    \"B\": [\"12.32 Boy5\", \"1.232 kg\"]\n",
    "}\n",
    "\n",
    "df = pd.DataFrame(dict)\n",
    "\n",
    "df.applymap(lambda x: float(x) if x.replace(\".\", \"\").isnumeric() \\\n",
    "              else (float((re.sub(r'[^.\\d]', '', x))) if re.sub(r'[^\\d]', '', x).isnumeric() else pd.NA))\n",
    ".applymap(lambda x: re.sub(r'^(.*?)\\s.*', r'\\1', x))\n",
    "\n"
   ]
  }
 ],
 "metadata": {
  "kernelspec": {
   "display_name": ".venv",
   "language": "python",
   "name": "python3"
  },
  "language_info": {
   "codemirror_mode": {
    "name": "ipython",
    "version": 3
   },
   "file_extension": ".py",
   "mimetype": "text/x-python",
   "name": "python",
   "nbconvert_exporter": "python",
   "pygments_lexer": "ipython3",
   "version": "3.8.16"
  },
  "orig_nbformat": 4,
  "vscode": {
   "interpreter": {
    "hash": "178d13a06305531a37210876f4e857cffae7b92a1d1fd01b9cb725de6da2b50a"
   }
  }
 },
 "nbformat": 4,
 "nbformat_minor": 2
}
